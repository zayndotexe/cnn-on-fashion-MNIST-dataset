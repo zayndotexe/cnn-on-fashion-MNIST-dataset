{
 "cells": [
  {
   "cell_type": "markdown",
   "metadata": {},
   "source": [
    "#### CNN on Fashion MNIST Dataset\n",
    "The Fashion MNIST data set contains 70,000 grayscale images in 10 categories. The images show individual articles of clothing at low resolution (28 by 28 pixels)"
   ]
  },
  {
   "cell_type": "markdown",
   "metadata": {},
   "source": [
    "Import necessary libraries"
   ]
  },
  {
   "cell_type": "code",
   "execution_count": 10,
   "metadata": {},
   "outputs": [],
   "source": [
    "import keras\n",
    "from keras.datasets import fashion_mnist \n",
    "from keras.layers import Dense, Activation, Flatten, Conv2D, MaxPooling2D\n",
    "from keras.models import Sequential\n",
    "from keras.utils import to_categorical\n",
    "import numpy as np\n",
    "import matplotlib.pyplot as plt"
   ]
  },
  {
   "cell_type": "code",
   "execution_count": 11,
   "metadata": {},
   "outputs": [],
   "source": [
    "# load the data set\n",
    "(train_X,train_Y), (test_X,test_Y) = fashion_mnist.load_data()"
   ]
  },
  {
   "cell_type": "markdown",
   "metadata": {},
   "source": [
    "#### Data Preprocessing\n",
    "When utilizing a convolutional layer as the initial layer in our model, it is necessary to reshape our data into the format (n_images, x_shape, y_shape, channels). Simply put, if you are working with grayscale images, you should set the value of channels to 1. Conversely, if your input consists of RGB images, the channels should be set to 3."
   ]
  },
  {
   "cell_type": "code",
   "execution_count": 12,
   "metadata": {},
   "outputs": [
    {
     "data": {
      "text/plain": [
       "(60000, 28, 28, 1)"
      ]
     },
     "execution_count": 12,
     "metadata": {},
     "output_type": "execute_result"
    }
   ],
   "source": [
    "train_X = train_X.reshape(-1, 28,28, 1)\n",
    "test_X = test_X.reshape(-1, 28,28, 1) # Negative one is the same as specifying the total number of images in the training set\n",
    "\n",
    "train_X.shape"
   ]
  },
  {
   "cell_type": "markdown",
   "metadata": {},
   "source": [
    "By adjusting the pixel values within the range of 0 to 1, we can enhance the learning rate of our model."
   ]
  },
  {
   "cell_type": "code",
   "execution_count": 13,
   "metadata": {},
   "outputs": [],
   "source": [
    "train_X = train_X.astype('float32')\n",
    "test_X = test_X.astype('float32')\n",
    "train_X = train_X / 255\n",
    "test_X = test_X / 255"
   ]
  },
  {
   "cell_type": "markdown",
   "metadata": {},
   "source": [
    "To enable our model to handle categorical data, it is necessary to employ one-hot encoding. In one-hot encoding, the digits 0 to 9 are represented by a sequence of nine zeros and a single one. The specific digit is indicated by the position of the number 1. For instance, a 3 would be represented as [0, 0, 0, 1, 0, 0, 0, 0, 0, 0]."
   ]
  },
  {
   "cell_type": "code",
   "execution_count": 14,
   "metadata": {},
   "outputs": [],
   "source": [
    "train_Y_one_hot = to_categorical(train_Y)\n",
    "test_Y_one_hot = to_categorical(test_Y)"
   ]
  },
  {
   "cell_type": "markdown",
   "metadata": {},
   "source": [
    "#### Training\n",
    "\n",
    "Our convolutional layers will consist of 64 neurons (also known as feature maps) and utilize a 3x3 feature detector. Additionally, our pooling layers will employ max pooling using a 2x2 matrix. It is common practice for convolutional neural networks to be followed by an artificial neural network. In Keras, a Dense layer performs the operation output = activation(dot(input, weight) + bias). However, since the input to our artificial neural network must be in one dimension, we flatten it beforehand."
   ]
  },
  {
   "cell_type": "code",
   "execution_count": 15,
   "metadata": {},
   "outputs": [],
   "source": [
    "# Create a sequential model\n",
    "model = Sequential()\n",
    "\n",
    "# Add a 2D convolutional layer with 64 filters of size 3x3, and specify the input shape\n",
    "model.add(Conv2D(64, (3, 3), input_shape=(28, 28, 1)))\n",
    "# Apply the ReLU activation function\n",
    "model.add(Activation('relu'))\n",
    "# Add a max pooling layer with a pool size of 2x2\n",
    "model.add(MaxPooling2D(pool_size=(2, 2)))\n",
    "\n",
    "# Add another 2D convolutional layer with 64 filters of size 3x3\n",
    "model.add(Conv2D(64, (3, 3)))\n",
    "# Apply the ReLU activation function\n",
    "model.add(Activation('relu'))\n",
    "# Add another max pooling layer with a pool size of 2x2\n",
    "model.add(MaxPooling2D(pool_size=(2, 2)))\n",
    "\n",
    "# Flatten the input to a 1D vector\n",
    "model.add(Flatten())\n",
    "\n",
    "# Add a fully connected layer with 64 neurons\n",
    "model.add(Dense(64))\n",
    "# Add another fully connected layer with 10 neurons for the output classes\n",
    "model.add(Dense(10))\n",
    "# Apply the softmax activation function to obtain probability distributions\n",
    "model.add(Activation('softmax'))\n",
    "\n",
    "# Compile the model with categorical cross-entropy loss, Adam optimizer, and accuracy metric\n",
    "model.compile(loss=keras.losses.categorical_crossentropy, optimizer=keras.optimizers.Adam(), metrics=['accuracy'])"
   ]
  },
  {
   "cell_type": "markdown",
   "metadata": {},
   "source": [
    "The above code creates a convolutional neural network (CNN) model for image classification. It consists of two convolutional layers followed by max pooling, a flattening layer, and two fully connected layers. The activation functions used are ReLU for the convolutional layers and softmax for the output layer. The model is compiled with the categorical cross-entropy loss, Adam optimizer, and accuracy as the evaluation metric."
   ]
  },
  {
   "cell_type": "markdown",
   "metadata": {},
   "source": [
    "Utilizing TensorFlow on your GPU can yield significant benefits due to the matrix-based computations involved in convolutional neural networks. However, if you are training the model using a CPU, I would suggest limiting the number of epochs to 10 or less to avoid prolonged training times. It is important to ensure that the batch size matches the number of images being fed into the first convolutional layer for optimal performance."
   ]
  },
  {
   "cell_type": "code",
   "execution_count": 16,
   "metadata": {},
   "outputs": [
    {
     "name": "stdout",
     "output_type": "stream",
     "text": [
      "Epoch 1/10\n",
      "938/938 [==============================] - 16s 16ms/step - loss: 0.4631 - accuracy: 0.8352\n",
      "Epoch 2/10\n",
      "938/938 [==============================] - 16s 17ms/step - loss: 0.3155 - accuracy: 0.8869\n",
      "Epoch 3/10\n",
      "938/938 [==============================] - 15s 16ms/step - loss: 0.2758 - accuracy: 0.9006\n",
      "Epoch 4/10\n",
      "938/938 [==============================] - 16s 17ms/step - loss: 0.2476 - accuracy: 0.9100\n",
      "Epoch 5/10\n",
      "938/938 [==============================] - 15s 16ms/step - loss: 0.2288 - accuracy: 0.9156\n",
      "Epoch 6/10\n",
      "938/938 [==============================] - 15s 16ms/step - loss: 0.2121 - accuracy: 0.9226\n",
      "Epoch 7/10\n",
      "938/938 [==============================] - 16s 17ms/step - loss: 0.1963 - accuracy: 0.9276\n",
      "Epoch 8/10\n",
      "938/938 [==============================] - 16s 17ms/step - loss: 0.1836 - accuracy: 0.9322\n",
      "Epoch 9/10\n",
      "938/938 [==============================] - 16s 17ms/step - loss: 0.1710 - accuracy: 0.9366\n",
      "Epoch 10/10\n",
      "938/938 [==============================] - 16s 17ms/step - loss: 0.1623 - accuracy: 0.9409\n"
     ]
    },
    {
     "data": {
      "text/plain": [
       "<keras.src.callbacks.History at 0x24385a71060>"
      ]
     },
     "execution_count": 16,
     "metadata": {},
     "output_type": "execute_result"
    }
   ],
   "source": [
    "model.fit(train_X, train_Y_one_hot, batch_size=64, epochs=10)"
   ]
  },
  {
   "cell_type": "markdown",
   "metadata": {},
   "source": [
    "After reaching the tenth epoch, our model achieved an impressive accuracy of 94%, considering all the factors involved. Now, let's evaluate the performance of our model in categorizing new images to further assess its capabilities."
   ]
  },
  {
   "cell_type": "code",
   "execution_count": 21,
   "metadata": {},
   "outputs": [
    {
     "name": "stdout",
     "output_type": "stream",
     "text": [
      "313/313 [==============================] - 1s 3ms/step - loss: 0.2788 - accuracy: 0.9058\n",
      "Test loss 0.27877575159072876\n",
      "Test accuracy 0.9057999849319458\n"
     ]
    }
   ],
   "source": [
    "test_loss, test_acc = model.evaluate(test_X, test_Y_one_hot)\n",
    "print('Test loss', test_loss)\n",
    "print('Test accuracy', test_acc)"
   ]
  },
  {
   "cell_type": "markdown",
   "metadata": {},
   "source": [
    "Upon analyzing the test accuracy, it is evident that our model has exhibited slight overfitting. Now, let's examine the first prediction made by our model."
   ]
  },
  {
   "cell_type": "code",
   "execution_count": 18,
   "metadata": {},
   "outputs": [
    {
     "name": "stdout",
     "output_type": "stream",
     "text": [
      "313/313 [==============================] - 1s 3ms/step\n",
      "9\n"
     ]
    }
   ],
   "source": [
    "predictions = model.predict(test_X)\n",
    "print(np.argmax(np.round(predictions[0])))"
   ]
  },
  {
   "attachments": {
    "image.png": {
     "image/png": "[encoded data removed]"
    }
   },
   "cell_type": "markdown",
   "metadata": {},
   "source": [
    "The number 9 has a matching class of Ankle boot.\n",
    "![image.png](attachment:image.png)"
   ]
  },
  {
   "cell_type": "markdown",
   "metadata": {},
   "source": [
    "Running the following code will display the first image."
   ]
  },
  {
   "cell_type": "code",
   "execution_count": 19,
   "metadata": {},
   "outputs": [
    {
     "data": {
      "image/png": "[encoded data removed]",
      "text/plain": [
       "<Figure size 432x288 with 1 Axes>"
      ]
     },
     "metadata": {
      "needs_background": "light"
     },
     "output_type": "display_data"
    }
   ],
   "source": [
    "plt.imshow(test_X[0].reshape(28, 28), cmap = plt.cm.binary)\n",
    "plt.show()"
   ]
  },
  {
   "cell_type": "markdown",
   "metadata": {},
   "source": [
    "Our model correctly classified the first image in our testing data set."
   ]
  }
 ],
 "metadata": {
  "kernelspec": {
   "display_name": "ds",
   "language": "python",
   "name": "python3"
  },
  "language_info": {
   "codemirror_mode": {
    "name": "ipython",
    "version": 3
   },
   "file_extension": ".py",
   "mimetype": "text/x-python",
   "name": "python",
   "nbconvert_exporter": "python",
   "pygments_lexer": "ipython3",
   "version": "3.10.4"
  },
  "orig_nbformat": 4
 },
 "nbformat": 4,
 "nbformat_minor": 2
}
